from sklearn.metrics.pairwise import cosine_similarity
import pandas as pd

# Aggregate customer-level data
customer_features = data.groupby('CustomerID').agg({
    'TotalValue': 'sum',
    'Quantity': 'sum',
    'Price': 'mean',
    'Region': 'first'
})
customer_features['Region'] = customer_features['Region'].astype('category').cat.codes

# Compute cosine similarity
similarity_matrix = cosine_similarity(customer_features)
similarity_df = pd.DataFrame(similarity_matrix, index=customer_features.index, columns=customer_features.index)

# Find top 3 similar customers for first 20
lookalike_output = {}
for cust_id in customer_features.index[:20]:
    top3 = similarity_df.loc[cust_id].sort_values(ascending=False).iloc[1:4]
    lookalike_output[cust_id] = [(cid, score) for cid, score in zip(top3.index, top3.values)]

# Save results
lookalike_df = pd.DataFrame.from_dict(lookalike_output, orient='index', columns=['SimilarCustomer1', 'Score1', 'SimilarCustomer2', 'Score2', 'SimilarCustomer3', 'Score3'])
lookalike_df.to_csv('FirstName_LastName_Lookalike.csv')
