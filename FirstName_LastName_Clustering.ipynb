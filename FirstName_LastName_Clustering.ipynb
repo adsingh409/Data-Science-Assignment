from sklearn.cluster import KMeans
from sklearn.preprocessing import StandardScaler
from sklearn.metrics import davies_bouldin_score
import pandas as pd
import matplotlib.pyplot as plt

# Load datasets
customers = pd.read_csv('Customers.csv')
transactions = pd.read_csv('Transactions.csv')

# Feature engineering
customer_features = transactions.groupby('CustomerID').agg({
    'TotalValue': 'sum',
    'Quantity': 'sum'
}).reset_index()
customer_features = pd.merge(customer_features, customers[['CustomerID', 'Region']], on='CustomerID', how='left')
customer_features['Region'] = customer_features['Region'].astype('category').cat.codes

# Standardize numerical features
scaler = StandardScaler()
scaled_features = scaler.fit_transform(customer_features.drop('CustomerID', axis=1))

# Apply K-means
kmeans = KMeans(n_clusters=4, random_state=42)
customer_features['Cluster'] = kmeans.fit_predict(scaled_features)

# Calculate DB Index
db_index = davies_bouldin_score(scaled_features, customer_features['Cluster'])
print("Davies-Bouldin Index:", db_index)

# Save clustering results
customer_features.to_csv('FirstName_LastName_Clustering.csv', index=False)

# Plot clusters
plt.scatter(scaled_features[:, 0], scaled_features[:, 1], c=customer_features['Cluster'], cmap='viridis', alpha=0.7)
plt.title("Customer Clusters")
plt.xlabel("Feature 1 (Scaled)")
plt.ylabel("Feature 2 (Scaled)")
plt.colorbar(label="Cluster")
plt.show()
