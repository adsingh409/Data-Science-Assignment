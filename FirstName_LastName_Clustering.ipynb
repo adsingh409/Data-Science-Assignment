from sklearn.cluster import KMeans
from sklearn.metrics import davies_bouldin_score
from sklearn.preprocessing import StandardScaler

# Prepare features for clustering
clustering_features = customer_features.drop('Region', axis=1)
scaler = StandardScaler()
scaled_features = scaler.fit_transform(clustering_features)

# Apply K-means clustering
kmeans = KMeans(n_clusters=4, random_state=42)
clusters = kmeans.fit_predict(scaled_features)

# Add clusters to data
customer_features['Cluster'] = clusters

# Calculate DBI
db_index = davies_bouldin_score(scaled_features, clusters)
print("Davies-Bouldin Index:", db_index)

# Save clustering results
customer_features.to_csv('FirstName_LastName_Clustering.csv')
